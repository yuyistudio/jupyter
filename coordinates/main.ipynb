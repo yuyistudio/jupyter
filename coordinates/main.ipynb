{
 "cells": [
  {
   "cell_type": "code",
   "execution_count": 117,
   "metadata": {
    "collapsed": false
   },
   "outputs": [
    {
     "name": "stdout",
     "output_type": "stream",
     "text": [
      "11224\n"
     ]
    }
   ],
   "source": [
    "# ML\n",
    "import scipy as sp\n",
    "import numpy as np\n",
    "import matplotlib as mp\n",
    "import matplotlib.pyplot as plt\n",
    "%matplotlib inline\n",
    "\n",
    "from collections import defaultdict\n",
    "\n",
    "data = defaultdict(list)\n",
    "for l in open('input'):\n",
    "    f = l.strip().split()\n",
    "    uid, lat, lon = int(f[0]), float(f[1]), float(f[2])\n",
    "    data[uid].append((lat, lon))\n",
    "\n",
    "print(len(data))"
   ]
  },
  {
   "cell_type": "code",
   "execution_count": 118,
   "metadata": {
    "collapsed": false
   },
   "outputs": [
    {
     "name": "stdout",
     "output_type": "stream",
     "text": [
      "29869512034 0.00178833957721\n",
      "3434610913 0.00900719551091\n",
      "27261895063 0.00328137630958\n",
      "7734788570 0.0017857779779\n",
      "31378342655 0.00147086188379\n",
      "29063381903 0.0184703048038\n",
      "7545248020 0.00154119173672\n",
      "18608981211 0.0018203601271\n",
      "9580709172 0.00845671826662\n",
      "29039766476 0.0226535075154\n",
      "17258383479 0.0163429522985\n",
      "14860310208 0.0151436501738\n",
      "8847493292 0.00169259296404\n",
      "3387590991 0.0112184918649\n",
      "8617200272 0.0100896703729\n",
      "6855396116 0.00182753869215\n",
      "good/total: 84/101\n",
      "reduct:28=>3 target:3 0.00178834\n",
      "cluter-0: 25 points\n",
      "cluter-1: 1 points\n",
      "cluter-2: 2 points\n"
     ]
    },
    {
     "data": {
      "image/png": "[encoded data removed]",
      "text/plain": [
       "<matplotlib.figure.Figure at 0x10bf0e8d0>"
      ]
     },
     "metadata": {},
     "output_type": "display_data"
    }
   ],
   "source": [
    "\n",
    "from scipy.cluster.vq import vq,kmeans,whiten\n",
    "\n",
    "def test():\n",
    "    uid = 8909940024\n",
    "    counter = 0\n",
    "    target_c = 5\n",
    "    count_ok = 0\n",
    "    for uid in data:\n",
    "        points = np.array(data[uid])\n",
    "        if len(points) < 20:\n",
    "            continue\n",
    "        counter += 1\n",
    "        if counter > 100:\n",
    "            break\n",
    "        result_points, distortion = kmeans(points, 3)\n",
    "        if distortion > 0.0013:\n",
    "            print uid, distortion\n",
    "        else:\n",
    "            count_ok += 1\n",
    "    print 'good/total: %d/%d' % (count_ok, counter)\n",
    "    \n",
    "def test_user(uid, target_cn = None):\n",
    "    points = np.array(data[uid])\n",
    "    p1 = plt.subplot(211)\n",
    "    p1.grid(True)\n",
    "    result_points = []\n",
    "    for cn in range(2, 100):\n",
    "        if target_cn != None:\n",
    "            cn = target_cn\n",
    "        result_points, distortion = kmeans(points, cn)\n",
    "        print 'reduct:%d=>%d target:%d %.8f' % (len(points), len(result_points), cn, distortion)\n",
    "        if distortion < 1*1e-4 or target_cn != None:\n",
    "            p1.scatter(result_points[:, 0], result_points[:, 1],s=25,alpha=0.4,marker='x')\n",
    "            break\n",
    "        if target_cn != None:\n",
    "            break\n",
    "    p2 = plt.subplot(212)\n",
    "    p2.grid(True)\n",
    "    idx, _ = vq(points, result_points)\n",
    "    colors = 'rgbcmykrrrrrrrrrrr'\n",
    "    for i in range(len(result_points)):\n",
    "        print 'cluter-%d: %d points' % (i, len(points[idx == i, :]))\n",
    "        p2.scatter(points[idx == i, 0], points[idx == i, 1],s=25,alpha=1,marker='x',c=colors[i])\n",
    "    plt.title('points')\n",
    "    plt.show()\n",
    "\n",
    "test()\n",
    "test_user(29869512034, 3)\n",
    "\n"
   ]
  },
  {
   "cell_type": "code",
   "execution_count": 119,
   "metadata": {
    "collapsed": false
   },
   "outputs": [
    {
     "name": "stdout",
     "output_type": "stream",
     "text": [
      "[[ 0.49426097  1.45106697]\n",
      " [-1.42808099 -0.83706377]\n",
      " [ 0.33855918  1.03875871]\n",
      " ..., \n",
      " [-0.05713876 -0.90926105]\n",
      " [-1.16939407  0.03959692]\n",
      " [ 0.26322951 -0.92649949]]\n"
     ]
    }
   ],
   "source": [
    "from sklearn import metrics\n",
    "from sklearn.datasets.samples_generator import make_blobs\n",
    "from sklearn.preprocessing import StandardScaler\n",
    "centers = [[1, 1], [-1, -1], [1, -1]]\n",
    "X, labels_true = make_blobs(n_samples=750, centers=centers, cluster_std=0.4,\n",
    "                            random_state=0)\n",
    "X = StandardScaler().fit_transform(X)\n",
    "print X"
   ]
  },
  {
   "cell_type": "code",
   "execution_count": null,
   "metadata": {
    "collapsed": true
   },
   "outputs": [],
   "source": []
  },
  {
   "cell_type": "code",
   "execution_count": null,
   "metadata": {
    "collapsed": true
   },
   "outputs": [],
   "source": []
  },
  {
   "cell_type": "code",
   "execution_count": null,
   "metadata": {
    "collapsed": true
   },
   "outputs": [],
   "source": []
  }
 ],
 "metadata": {
  "anaconda-cloud": {},
  "kernelspec": {
   "display_name": "Python [default]",
   "language": "python",
   "name": "python2"
  },
  "language_info": {
   "codemirror_mode": {
    "name": "ipython",
    "version": 2
   },
   "file_extension": ".py",
   "mimetype": "text/x-python",
   "name": "python",
   "nbconvert_exporter": "python",
   "pygments_lexer": "ipython2",
   "version": "2.7.12"
  }
 },
 "nbformat": 4,
 "nbformat_minor": 2
}
