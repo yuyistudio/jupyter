{
 "cells": [
  {
   "cell_type": "code",
   "execution_count": 1,
   "metadata": {
    "collapsed": false
   },
   "outputs": [
    {
     "name": "stderr",
     "output_type": "stream",
     "text": [
      "//anaconda/lib/python2.7/site-packages/matplotlib/font_manager.py:273: UserWarning: Matplotlib is building the font cache using fc-list. This may take a moment.\n",
      "  warnings.warn('Matplotlib is building the font cache using fc-list. This may take a moment.')\n"
     ]
    },
    {
     "name": "stdout",
     "output_type": "stream",
     "text": [
      "done\n"
     ]
    }
   ],
   "source": [
    "import matplotlib.pyplot as plt\n",
    "import numpy as np\n",
    "import sklearn\n",
    "import sklearn.datasets\n",
    "import sklearn.linear_model\n",
    "import matplotlib\n",
    "%matplotlib inline\n",
    "matplotlib.rcParams['figure.figsize'] = (10.0, 8.0)\n",
    "\n",
    "print 'done'"
   ]
  },
  {
   "cell_type": "code",
   "execution_count": 31,
   "metadata": {
    "collapsed": false
   },
   "outputs": [
    {
     "name": "stdout",
     "output_type": "stream",
     "text": [
      "raw data 14681 4680\n",
      "training & test dataset (10276, 48) (4405, 48)\n",
      "done\n"
     ]
    }
   ],
   "source": [
    "import json\n",
    "\n",
    "# \n",
    "def load_data():\n",
    "    filename = \"data_for_training.work\"\n",
    "    X_res = []\n",
    "    y_res = []\n",
    "    c1 = 0\n",
    "    c0 = 0\n",
    "    max_c = 10000\n",
    "    for line in open(filename):\n",
    "        row = json.loads(line.strip())\n",
    "        label = row[-1]\n",
    "        if label == 0:\n",
    "            if c0 > max_c:\n",
    "                continue\n",
    "            else:\n",
    "                c0 += 1\n",
    "        elif label == 1:\n",
    "            if c1 > max_c:\n",
    "                continue\n",
    "            else:\n",
    "                c1 += 1\n",
    "        X_res.append(row[:-1])\n",
    "        y_res.append(label)\n",
    "    return np.array(X_res, dtype='float64'), np.array(y_res, dtype='int')\n",
    "\n",
    "X, y = load_data()\n",
    "print 'raw data', len(y), np.sum(y)\n",
    "\n",
    "\n",
    "from sklearn.model_selection import train_test_split\n",
    "\n",
    "X_train, X_test, y_train, y_test = train_test_split(X, y, test_size=0.3, random_state=42)\n",
    "\n",
    "print 'training & test dataset', X_train.shape, X_test.shape\n",
    "\n",
    "print 'done'"
   ]
  },
  {
   "cell_type": "code",
   "execution_count": 32,
   "metadata": {
    "collapsed": false
   },
   "outputs": [
    {
     "name": "stdout",
     "output_type": "stream",
     "text": [
      "iter: 156 layers: 3\n",
      "time: 0.00309991836548 size: 4405\n",
      "score of train:test 0.8369015181 0.826560726447\n"
     ]
    }
   ],
   "source": [
    "from sklearn import neural_network\n",
    "import time, os, pickle\n",
    "\n",
    "def get_clf(use_cache=True):\n",
    "    filename = \"nn.work.model\"\n",
    "    if use_cache and os.path.exists(filename):\n",
    "        print 'cache hit'\n",
    "        return pickle.loads(open(filename, 'r').read())\n",
    "    clf = neural_network.MLPClassifier(hidden_layer_sizes=(20,), \n",
    "                                       activation='relu', \n",
    "                                       solver='adam', \n",
    "                                       alpha=0.03,  # 学习速率\n",
    "                                       batch_size='auto', \n",
    "                                       learning_rate='constant', \n",
    "                                       learning_rate_init=0.001, \n",
    "                                       power_t=0.5, \n",
    "                                       max_iter=10000, \n",
    "                                       shuffle=True, \n",
    "                                       random_state=3,  # 初始状态的随机种子\n",
    "                                       tol=0.0001, \n",
    "                                       verbose=False, \n",
    "                                       warm_start=False, \n",
    "                                       momentum=0.9,\n",
    "                                       nesterovs_momentum=True, \n",
    "                                       early_stopping=False, \n",
    "                                       validation_fraction=0.1, \n",
    "                                       beta_1=0.9, \n",
    "                                       beta_2=0.999, \n",
    "                                       epsilon=1e-08)\n",
    "    clf.fit(X_train, y_train)\n",
    "    fout = open(filename, 'w')\n",
    "    fout.write(pickle.dumps(clf))\n",
    "    fout.close()\n",
    "    return clf\n",
    "\n",
    "clf = get_clf(False)\n",
    "\n",
    "print 'iter:', clf.n_iter_, 'layers:', clf.n_layers_\n",
    "t1 = time.time()\n",
    "proba = clf.predict_proba(X_test)[:,1]  # 每个元素都是属于该类别的概率大小\n",
    "print 'time:', time.time() - t1, 'size:', len(X_test)\n",
    "\n",
    "print 'score of train:test', clf.score(X_train, y_train), clf.score(X_test, y_test)\n"
   ]
  },
  {
   "cell_type": "code",
   "execution_count": 33,
   "metadata": {
    "collapsed": false
   },
   "outputs": [
    {
     "name": "stdout",
     "output_type": "stream",
     "text": [
      "time: 0.0320601463318 size: 4405\n",
      "0.9980537174 0.845856980704\n"
     ]
    }
   ],
   "source": [
    "from sklearn.ensemble import RandomForestClassifier\n",
    "\n",
    "clf = RandomForestClassifier(n_estimators=23, \n",
    "                             criterion='gini', \n",
    "                             max_depth=None, \n",
    "                             min_samples_split=2,\n",
    "                             min_samples_leaf=1, \n",
    "                             min_weight_fraction_leaf=0.0, \n",
    "                             max_features='auto', \n",
    "                             max_leaf_nodes=None, \n",
    "                             min_impurity_split=1e-07, bootstrap=True, oob_score=False, \n",
    "                             n_jobs=1, random_state=None, verbose=0, warm_start=False, \n",
    "                             class_weight=None)\n",
    "\n",
    "clf.fit(X_train, y_train)\n",
    "\n",
    "t1 = time.time()\n",
    "clf.predict(X_test)\n",
    "print 'time:', time.time() - t1, 'size:', len(X_test)\n",
    "\n",
    "print clf.score(X_train, y_train), clf.score(X_test, y_test)\n"
   ]
  },
  {
   "cell_type": "code",
   "execution_count": null,
   "metadata": {
    "collapsed": true
   },
   "outputs": [],
   "source": []
  },
  {
   "cell_type": "code",
   "execution_count": null,
   "metadata": {
    "collapsed": false
   },
   "outputs": [],
   "source": [
    "from sklearn import linear_model\n",
    "from sklearn import svm\n",
    "from sklearn.svm import LinearSVC\n",
    "\n",
    "lr = linear_model.LogisticRegressionCV()\n",
    "svc = svm.SVC(kernel='rbf')\n",
    "\n",
    "#X_train = [[1,0,0],[0,1,0],[1,1,0],[0,0,1],[0,1,1],[1,0,1]]\n",
    "#y_train = [0,0,0,1,1,1]\n",
    "\n",
    "def get_err_rate(X, y, clf):\n",
    "    res = clf.predict(X)\n",
    "    total_count = len(res)\n",
    "    wrong_count = np.sum(np.abs(res - y))\n",
    "    return float(wrong_count) / total_count\n",
    "\n",
    "max_acc = 0\n",
    "best_C = 0\n",
    "for C in np.linspace(75, 85, 100):\n",
    "    clf = svm.SVC(kernel='rbf', C=C)\n",
    "    clf.fit(X, y)\n",
    "    clf.fit(X_train, y_train)\n",
    "    acc_rate = clf.score(X_train, y_train)\n",
    "    if acc_rate > max_acc:\n",
    "        max_acc = acc_rate\n",
    "        best_C = C\n",
    "        print best_C, max_acc\n",
    "\n",
    "clf = svm.SVC(C=best_C)\n",
    "clf.fit(X_train, y_train)\n",
    "print X_train.shape, y_train.shape, X_test.shape, y_test.shape\n",
    "print 'acc', clf.score(X_test, y_test)\n",
    "#print get_err_rate(X_test, y_test, lsvc)\n",
    "\n",
    "print 'done'"
   ]
  }
 ],
 "metadata": {
  "anaconda-cloud": {},
  "kernelspec": {
   "display_name": "Python [default]",
   "language": "python",
   "name": "python2"
  },
  "language_info": {
   "codemirror_mode": {
    "name": "ipython",
    "version": 2
   },
   "file_extension": ".py",
   "mimetype": "text/x-python",
   "name": "python",
   "nbconvert_exporter": "python",
   "pygments_lexer": "ipython2",
   "version": "2.7.12"
  }
 },
 "nbformat": 4,
 "nbformat_minor": 1
}
