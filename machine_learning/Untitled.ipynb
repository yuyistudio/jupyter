{
 "cells": [
  {
   "cell_type": "code",
   "execution_count": 63,
   "metadata": {
    "collapsed": false
   },
   "outputs": [
    {
     "name": "stdout",
     "output_type": "stream",
     "text": [
      "0.829268292683\n"
     ]
    }
   ],
   "source": [
    "from sklearn.manifold import TSNE\n",
    "from sklearn.datasets import load_iris\n",
    "from sklearn.decomposition import PCA\n",
    "from sklearn.decomposition import LatentDirichletAllocation as LDA\n",
    "import matplotlib.pyplot as plt\n",
    "import numpy as np\n",
    "%matplotlib inline\n",
    "import json\n",
    "\n",
    "X = []\n",
    "y = []\n",
    "for l in open('train.data'):\n",
    "    f = l.split('\\t')\n",
    "    X.append(json.loads(f[2]))\n",
    "    y.append(float(f[1]))\n",
    "X = np.array(X)\n",
    "y = np.array(y)\n",
    "\n",
    "import sklearn.preprocessing as pp\n",
    "mms = pp.MinMaxScaler()\n",
    "X = mms.fit_transform(X)\n",
    "mms = pp.MinMaxScaler()\n",
    "y = mms.fit_transform(np.array([y], dtype='float64').T)\n",
    "y = pp.Binarizer(threshold=np.average(y), copy=False).fit_transform(y).T[0]\n",
    "\n",
    "from sklearn.cross_validation import train_test_split\n",
    "train_X, test_X, train_y, test_y = train_test_split(X, y, test_size=0.3, random_state=0)\n",
    "\n",
    "from sklearn.linear_model import LogisticRegression\n",
    "\n",
    "lr = LogisticRegression()\n",
    "lr.fit(train_X, train_y)\n",
    "print lr.score(test_X, test_y)\n",
    "\n",
    "\n",
    "def show():\n",
    "    alpha = 0.1\n",
    "\n",
    "    plt.figure(figsize=(10, 5))\n",
    "\n",
    "    print 'pca'\n",
    "    X_pca = PCA(n_components=2).fit_transform(X)\n",
    "    plt.subplot(131)\n",
    "    plt.title('PCA')\n",
    "    plt.scatter(X_pca[:, 0], X_pca[:, 1], c=y, alpha=alpha)\n",
    "\n",
    "    if True:\n",
    "        print 't-sne'\n",
    "        X_tsne = TSNE(learning_rate=100,n_components=2).fit_transform(X)\n",
    "        plt.subplot(132)\n",
    "        plt.title('t-SNE')\n",
    "        plt.scatter(X_tsne[:, 0], X_tsne[:, 1], c=y, alpha=alpha)\n",
    "\n",
    "    if True:\n",
    "        print 'lda'\n",
    "        X = LDA(n_components=2).fit_transform(X)\n",
    "        plt.subplot(133)\n",
    "        plt.title('LDA')\n",
    "        plt.scatter(X[:, 0], X[:, 1], c=y, alpha=alpha)\n",
    "\n",
    "\n",
    "\n"
   ]
  },
  {
   "cell_type": "code",
   "execution_count": null,
   "metadata": {
    "collapsed": true
   },
   "outputs": [],
   "source": []
  }
 ],
 "metadata": {
  "anaconda-cloud": {},
  "kernelspec": {
   "display_name": "Python [conda root]",
   "language": "python",
   "name": "conda-root-py"
  },
  "language_info": {
   "codemirror_mode": {
    "name": "ipython",
    "version": 2
   },
   "file_extension": ".py",
   "mimetype": "text/x-python",
   "name": "python",
   "nbconvert_exporter": "python",
   "pygments_lexer": "ipython2",
   "version": "2.7.12"
  }
 },
 "nbformat": 4,
 "nbformat_minor": 1
}
