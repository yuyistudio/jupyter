{
 "cells": [
  {
   "cell_type": "code",
   "execution_count": 1,
   "metadata": {
    "collapsed": false
   },
   "outputs": [
    {
     "name": "stdout",
     "output_type": "stream",
     "text": [
      "[[ 1.5488135   1.71518937  1.60276338]\n",
      " [ 1.54488318  1.4236548   1.64589411]]\n",
      "[ 1.5488135   1.71518937  1.60276338  1.54488318  1.4236548   1.64589411]\n",
      "[ 3.26400287  3.14764656  3.06954891]\n",
      "[ 1.5488135  1.4236548]\n",
      "[[ 1.5488135   3.26400287  4.86676625]\n",
      " [ 1.54488318  2.96853798  4.6144321 ]]\n",
      "[[ 7.90954827  7.47255231]\n",
      " [ 7.47255231  7.12242447]]\n"
     ]
    },
    {
     "ename": "ValueError",
     "evalue": "operands could not be broadcast together with shapes (2,3) (3,2) ",
     "output_type": "error",
     "traceback": [
      "\u001b[0;31m\u001b[0m",
      "\u001b[0;31mValueError\u001b[0mTraceback (most recent call last)",
      "\u001b[0;32m<ipython-input-1-628eb9fbee62>\u001b[0m in \u001b[0;36m<module>\u001b[0;34m()\u001b[0m\n\u001b[1;32m     11\u001b[0m \u001b[0;34m\u001b[0m\u001b[0m\n\u001b[1;32m     12\u001b[0m \u001b[0;32mprint\u001b[0m \u001b[0ma1\u001b[0m\u001b[0;34m.\u001b[0m\u001b[0mdot\u001b[0m\u001b[0;34m(\u001b[0m\u001b[0ma1\u001b[0m\u001b[0;34m.\u001b[0m\u001b[0mT\u001b[0m\u001b[0;34m)\u001b[0m  \u001b[0;31m# 矩阵乘法，内积\u001b[0m\u001b[0;34m\u001b[0m\u001b[0m\n\u001b[0;32m---> 13\u001b[0;31m \u001b[0;32mprint\u001b[0m \u001b[0ma1\u001b[0m \u001b[0;34m*\u001b[0m \u001b[0ma1\u001b[0m\u001b[0;34m.\u001b[0m\u001b[0mT\u001b[0m  \u001b[0;31m# 外积\u001b[0m\u001b[0;34m\u001b[0m\u001b[0m\n\u001b[0m\u001b[1;32m     14\u001b[0m \u001b[0;34m\u001b[0m\u001b[0m\n\u001b[1;32m     15\u001b[0m \u001b[0;31m# ufunc = universal functions, operate elementwide on a ndarray\u001b[0m\u001b[0;34m\u001b[0m\u001b[0;34m\u001b[0m\u001b[0m\n",
      "\u001b[0;31mValueError\u001b[0m: operands could not be broadcast together with shapes (2,3) (3,2) "
     ]
    }
   ],
   "source": [
    "import numpy as np\n",
    "np.random.seed(0)\n",
    "a1 = np.ones((2,3))\n",
    "a2 = np.random.random((2,3))\n",
    "a1 = a1 + a2\n",
    "print a1\n",
    "print a1.ravel()\n",
    "print a1.reshape((3,2)).sum(axis=1)\n",
    "print a1.min(axis=1)\n",
    "print a1.cumsum(axis=1) # cumulative sum\n",
    "\n",
    "# a1.dot(a1.T)  # 矩阵乘法，内积\n",
    "# a1 * a1.T  # 外积\n",
    "# np.linalg.norm( a1 )  # 范数\n",
    "# axis=0 按列处理； axis=1 按行处理；\n",
    "\n",
    "# ufunc = universal functions, operate elementwide on a ndarray\n",
    "print 'ufunc'\n",
    "print np.sqrt(a1)\n",
    "print np.add(a1, a2)\n",
    "print a1+a2 # translated into np.add(a1,a2)\n",
    "print np.exp(a1)\n",
    "\n"
   ]
  },
  {
   "cell_type": "code",
   "execution_count": 45,
   "metadata": {
    "collapsed": false
   },
   "outputs": [
    {
     "name": "stdout",
     "output_type": "stream",
     "text": [
      "[[ 1.  1.  1.  1.  1.]\n",
      " [ 1.  1.  1.  1.  1.]\n",
      " [ 1.  1.  1.  1.  1.]\n",
      " [ 1.  1.  1.  1.  1.]\n",
      " [ 1.  1.  1.  1.  1.]]\n",
      "[[ 8.  1.  8.  1.  8.]\n",
      " [ 1.  1.  1.  1.  1.]\n",
      " [ 8.  1.  8.  1.  8.]\n",
      " [ 1.  1.  1.  1.  1.]\n",
      " [ 8.  1.  8.  1.  8.]]\n",
      "[[ 64.   1.  64.   1.  64.]\n",
      " [  1.   1.   1.   1.   1.]\n",
      " [ 64.   1.  64.   1.  64.]\n",
      " [  1.   1.   1.   1.   1.]\n",
      " [ 64.   1.  64.   1.  64.]]\n"
     ]
    }
   ],
   "source": [
    "# indexing\n",
    "a1 = np.ones((5,5))\n",
    "print a1\n",
    "a1[::2,::2] = 8 # 每行所有元素中每隔两个元素，每列也是\n",
    "print a1\n",
    "print a1 ** 2 # 计算平方"
   ]
  },
  {
   "cell_type": "code",
   "execution_count": 77,
   "metadata": {
    "collapsed": false
   },
   "outputs": [
    {
     "name": "stdout",
     "output_type": "stream",
     "text": [
      "[[0 1 2 3 4]\n",
      " [1 2 3 4 5]\n",
      " [2 3 4 5 6]\n",
      " [3 4 5 6 7]]\n",
      "[1 2 3]\n",
      "[2 3 4 5 6]\n",
      "[2 3 4 5 6]\n",
      "[2 3 4 5 6]\n",
      "[0 1 2 3 4 1 2 3 4 5 2 3 4 5 6 3 4 5 6 7]\n",
      "[0 1 2 3 4 1 2 3 4 5 2 3 4 5 6 3 4 5 6 7]\n"
     ]
    }
   ],
   "source": [
    "# Multidimensional arrays\n",
    "a1 = np.fromfunction(lambda x, y: x + y, (4,5), dtype=int)\n",
    "print a1\n",
    "print a1[0:3,1]\n",
    "print a1[2,:] \n",
    "print a1[2] # same as a1[2,:]\n",
    "print a1[2,...] # same as a1[2,:]\n",
    "\n",
    "print np.array([x for x in a1.flat])\n",
    "print a1.ravel()"
   ]
  },
  {
   "cell_type": "code",
   "execution_count": 89,
   "metadata": {
    "collapsed": false
   },
   "outputs": [
    {
     "name": "stdout",
     "output_type": "stream",
     "text": [
      "[[ 2.19525402  2.86075747  2.4110535   2.17953273]\n",
      " [ 1.6946192   2.58357645  1.75034885  3.567092  ]\n",
      " [ 3.85465104  1.53376608  3.16690015  2.11557968]]\n",
      "[[ 2.  2.  2.  2.]\n",
      " [ 1.  2.  1.  3.]\n",
      " [ 3.  1.  3.  2.]]\n",
      "[[ 3.  3.  3.  3.]\n",
      " [ 2.  3.  2.  4.]\n",
      " [ 4.  2.  4.  3.]]\n",
      "[[ 2.19525402  2.86075747  2.4110535   2.17953273  1.6946192   2.58357645]\n",
      " [ 1.75034885  3.567092    3.85465104  1.53376608  3.16690015  2.11557968]]\n",
      "[[ 2.19525402  1.75034885]\n",
      " [ 2.86075747  3.567092  ]\n",
      " [ 2.4110535   3.85465104]\n",
      " [ 2.17953273  1.53376608]\n",
      " [ 1.6946192   3.16690015]\n",
      " [ 2.58357645  2.11557968]]\n"
     ]
    }
   ],
   "source": [
    "# shape manipulation\n",
    "np.random.seed(0)\n",
    "a1 = np.random.random((3,4))\n",
    "a1 *= 4\n",
    "print a1\n",
    "print np.floor(a1)\n",
    "print np.ceil(a1)\n",
    "print a1.reshape((2,6))\n",
    "print a1.reshape((2,6)).T"
   ]
  },
  {
   "cell_type": "code",
   "execution_count": 99,
   "metadata": {
    "collapsed": false
   },
   "outputs": [
    {
     "name": "stdout",
     "output_type": "stream",
     "text": [
      "[[ 1.  1.]\n",
      " [ 1.  1.]]\n",
      "[[ 1.  1.  1.]\n",
      " [ 1.  0.  0.]\n",
      " [ 0.  0.  0.]]\n",
      "[[ 2.  2.  2.]\n",
      " [ 2.  2.  2.]]\n",
      "[[ 1.  1.  1.]\n",
      " [ 1.  0.  0.]\n",
      " [ 0.  0.  0.]\n",
      " [ 2.  2.  2.]\n",
      " [ 2.  2.  2.]]\n",
      "[[ 2.  2.  2.  2.]\n",
      " [ 2.  2.  2.  2.]\n",
      " [ 2.  2.  2.  2.]]\n",
      "[[ 1.  1.  1.  2.  2.  2.  2.]\n",
      " [ 1.  0.  0.  2.  2.  2.  2.]\n",
      " [ 0.  0.  0.  2.  2.  2.  2.]]\n"
     ]
    }
   ],
   "source": [
    "a1 = np.ones((2,2))\n",
    "print a1\n",
    "a1.resize((3,3)) # modify the underlying array, fill with zero\n",
    "print a1\n",
    "a2 = np.ones((2,3)) * 2\n",
    "print a2\n",
    "print np.vstack((a1, a2))\n",
    "a2 = np.ones((3,4)) * 2\n",
    "print a2\n",
    "print np.hstack((a1,a2))\n"
   ]
  },
  {
   "cell_type": "code",
   "execution_count": 145,
   "metadata": {
    "collapsed": false
   },
   "outputs": [
    {
     "name": "stdout",
     "output_type": "stream",
     "text": [
      "[1 2 3 4 5 6 7 8 0 0 0 3 2 1]\n",
      "[[1 4]\n",
      " [2 5]\n",
      " [3 6]]\n"
     ]
    }
   ],
   "source": [
    "# shortcuts\n",
    "print np.r_[1:9, 0,0,0, 3,2,1]\n",
    "print np.r_['-1,2,0', [1,2,3], [4,5,6]]\n"
   ]
  },
  {
   "cell_type": "code",
   "execution_count": 158,
   "metadata": {
    "collapsed": false
   },
   "outputs": [
    {
     "name": "stdout",
     "output_type": "stream",
     "text": [
      "False\n",
      "True\n",
      "[[ 0.56660145  0.26538949  0.52324805]\n",
      " [ 0.09394051  0.5759465   0.9292962 ]]\n",
      "[[ 0.56660145  0.26538949]\n",
      " [ 0.52324805  0.09394051]\n",
      " [ 0.5759465   0.9292962 ]]\n",
      "[ 0.52324805  0.9292962 ]\n",
      "[[ 0.56660145  0.26538949  0.52324805]\n",
      " [ 0.09394051  0.5759465   0.9292962 ]]\n"
     ]
    }
   ],
   "source": [
    "# view & copy\n",
    "a1 = np.random.random((2,3))\n",
    "a2 = a1.view()\n",
    "print a1 is a2\n",
    "print a2.base is a1 # a2使用a1作为底层存储，所以修改a2会相应的修改a1\n",
    "a2.shape = 3,2\n",
    "print a1\n",
    "print a2\n",
    "\n",
    "a3 = a1[:,2]\n",
    "print a3 # 此时a3是a1的一个view\n",
    "\n",
    "a4 = a1.copy() # deepcopy\n",
    "print a4\n"
   ]
  },
  {
   "cell_type": "code",
   "execution_count": 26,
   "metadata": {
    "collapsed": false
   },
   "outputs": [
    {
     "name": "stdout",
     "output_type": "stream",
     "text": [
      "[ 0  1  4  9 16]\n",
      "[1 4 9 4 1]\n",
      "a [[ 0.5488135   0.71518937  0.60276338]\n",
      " [ 0.54488318  0.4236548   0.64589411]\n",
      " [ 0.43758721  0.891773    0.96366276]]\n",
      "[ 0.71518937  0.54488318  0.64589411]\n",
      "[[ 0.5488135   0.71518937  0.60276338]\n",
      " [ 0.54488318  0.4236548   0.64589411]\n",
      " [ 0.5488135   0.71518937  0.60276338]\n",
      " [ 0.54488318  0.4236548   0.64589411]]\n",
      "boolean [ 0.5488135   0.64589411]\n",
      "(12, 2)\n"
     ]
    },
    {
     "name": "stderr",
     "output_type": "stream",
     "text": [
      "/anaconda/lib/python2.7/site-packages/ipykernel/__main__.py:17: VisibleDeprecationWarning: boolean index did not match indexed array along dimension 0; dimension is 3 but corresponding boolean dimension is 2\n"
     ]
    }
   ],
   "source": [
    "import numpy as np\n",
    "\n",
    "a = np.arange(5) ** 2\n",
    "print a\n",
    "i = [1,2,3,2,1]\n",
    "print a[i]\n",
    "\n",
    "np.random.seed(0)\n",
    "a = np.random.random((3,3))\n",
    "print 'a', a\n",
    "i = [[0,1,1],\n",
    "     [1,0,2]]\n",
    "print a[i]\n",
    "print a[[0,1,0,1]] # 指定需要哪些行\n",
    "i = np.array([[True,False,False], # 使用和目标array相同shape的bool array，直接指定需要哪些数值\n",
    "           [False,False,True]], dtype=bool)\n",
    "print 'boolean', a[i]\n"
   ]
  },
  {
   "cell_type": "code",
   "execution_count": 33,
   "metadata": {
    "collapsed": false
   },
   "outputs": [
    {
     "name": "stdout",
     "output_type": "stream",
     "text": [
      "[[ 0  1  2  3]\n",
      " [ 4  5  6  7]\n",
      " [ 8  9 10 11]\n",
      " [12 13 14 15]\n",
      " [16 17 18 19]\n",
      " [20 21 22 23]]\n",
      "[[ 0  1  2  3]\n",
      " [12 13 14 15]\n",
      " [16 17 18 19]]\n"
     ]
    }
   ],
   "source": [
    "import numpy as np\n",
    "\n",
    "a = np.arange(24)\n",
    "a.shape = 6,-1 # whatever the column count is\n",
    "print a\n",
    "print a[np.array([True,False,False,True,True,False]), :] # 注意，这里需要转换成 np.array 进行 index"
   ]
  },
  {
   "cell_type": "code",
   "execution_count": 101,
   "metadata": {
    "collapsed": false
   },
   "outputs": [
    {
     "name": "stdout",
     "output_type": "stream",
     "text": [
      "[[ 4.  7.  0.]\n",
      " [ 3.  1.  0.]\n",
      " [ 1.  3.  3.]]\n",
      "[ 4.  1.  3.]\n",
      "equal 8.0 8.0\n",
      "Ax=b [ 1.17647059  0.47058824 -0.52941176]\n",
      "solve loss 4.4408920985e-16\n",
      "inv loss 1.11022302463e-16\n",
      "eig (array([ 3.        , -2.32182538,  7.32182538]), array([[ 0.        ,  0.72191546, -0.80590655],\n",
      "       [ 0.        , -0.65197479, -0.38244012],\n",
      "       [ 1.        ,  0.231877  , -0.45194489]]))\n",
      "det -51.0\n",
      "A* [[  3. -21.  -0.]\n",
      " [ -9.  12.   0.]\n",
      " [  8.  -5. -17.]]\n",
      "rank A 3\n",
      "rank Ab 3\n",
      "因为rank(A)==rank(Ab)，所以Ax=b有唯一解，Ab可以由A线性表示\n",
      "det 1.0\n"
     ]
    }
   ],
   "source": [
    "# linalg: linear algebra\n",
    "import numpy as np\n",
    "\n",
    "np.random.seed(1)\n",
    "A = np.floor(np.random.random((3,3)) * 10)\n",
    "print A\n",
    "print np.diag(A) # 对角元素列表\n",
    "print 'equal', np.trace(A), np.diag(A).sum() # 对角元素和\n",
    "\n",
    "b = np.array((8,4,1))\n",
    "ans = np.linalg.solve(A, b)\n",
    "print 'Ax=b', ans\n",
    "\n",
    "# 求解方程组的解\n",
    "print 'solve loss', abs(np.sum(np.dot(A, ans) - b))\n",
    "\n",
    "# 逆矩阵\n",
    "print 'inv loss', abs(np.sum(np.dot(np.linalg.inv(A), A) - np.eye(3)))\n",
    "\n",
    "# 特征 eigen\n",
    "print 'eig', np.linalg.eig(A) \n",
    "\n",
    "# 行列式（是一个值）\n",
    "print 'det', np.linalg.det(A)\n",
    "\n",
    "# 求解伴随矩阵\n",
    "print 'A*', np.linalg.det(A) * np.linalg.inv(A)\n",
    "\n",
    "# 矩阵的秩rank\n",
    "print 'rank A', np.linalg.matrix_rank(A)\n",
    "print 'rank Ab', np.linalg.matrix_rank(np.hstack((A, b.reshape((3,1)))))\n",
    "print '因为rank(A)==rank(Ab)，所以Ax=b有唯一解，Ab可以由A线性表示'\n",
    "\n",
    "A = np.eye(3)\n",
    "print 'det', np.linalg.det(A)\n"
   ]
  },
  {
   "cell_type": "code",
   "execution_count": 11,
   "metadata": {
    "collapsed": false
   },
   "outputs": [
    {
     "name": "stdout",
     "output_type": "stream",
     "text": [
      "eign value: [ 1.  2.  3.]\n",
      "eign vector:\n",
      "[[ 1.  0.  0.]\n",
      " [ 0.  1.  0.]\n",
      " [ 0.  0.  1.]]\n",
      "left value: [[  4.   0.   0.]\n",
      " [  0.   8.   0.]\n",
      " [  0.   0.  12.]]\n",
      "right value: [[  4.   0.   0.]\n",
      " [  0.   8.   0.]\n",
      " [  0.   0.  12.]]\n",
      "is diagonal matrix: False\n",
      "is diagonal matrix: True\n"
     ]
    }
   ],
   "source": [
    "# 线性代数\n",
    "\n",
    "import numpy as np\n",
    "\n",
    "# 特征（特征值和特征向量）eigenvalue\n",
    "A = np.diag((1,2,3))\n",
    "eigenvalue, eigenvector = np.linalg.eig(A)\n",
    "print 'eign value:', eigenvalue\n",
    "print 'eign vector:\\n', eigenvector\n",
    "\n",
    "eigenvector *= 4\n",
    "print 'left value:', np.dot(A, eigenvector)\n",
    "print 'right value:', eigenvalue * eigenvector\n",
    "\n",
    "# 正交矩阵\n",
    "def is_diagonal_matrix(A):\n",
    "    return (A.T == np.linalg.inv(A)).all() # 全部都是True\n",
    "print 'is diagonal matrix:', is_diagonal_matrix(A)\n",
    "print 'is diagonal matrix:', is_diagonal_matrix(np.eye(2))\n"
   ]
  },
  {
   "cell_type": "code",
   "execution_count": 112,
   "metadata": {
    "collapsed": false
   },
   "outputs": [
    {
     "name": "stdout",
     "output_type": "stream",
     "text": [
      "cov [[ 0.33333333 -0.33333333 -0.5       ]\n",
      " [-0.33333333  1.33333333 -1.        ]\n",
      " [-0.5        -1.          3.        ]]\n",
      "var 0.666666666667\n",
      "mean 2.0\n"
     ]
    }
   ],
   "source": [
    "# 数理统计\n",
    "import numpy as np\n",
    "\n",
    "A = np.diag((1,2,3))\n",
    "print 'cov', np.cov(A) # 协方差\n",
    "\n",
    "A = np.array((1,2,3))\n",
    "print 'var', np.var(A) # 方差\n",
    "\n",
    "print 'mean', np.mean(A) # 均值\n",
    "\n",
    "\n"
   ]
  },
  {
   "cell_type": "code",
   "execution_count": 18,
   "metadata": {
    "collapsed": false
   },
   "outputs": [
    {
     "name": "stdout",
     "output_type": "stream",
     "text": [
      "[[2]\n",
      " [1]]\n",
      "[[3]\n",
      " [2]]\n",
      "[[5]\n",
      " [3]]\n",
      "[[8]\n",
      " [5]]\n"
     ]
    }
   ],
   "source": [
    "fibonacci_progression_matrix = np.array([[1, 1], [1, 0]])\n",
    "vec = np.array([[1, 1]]).T\n",
    "for i in range(4):\n",
    "    vec = np.dot(fibonacci_progression_matrix, vec)\n",
    "    print vec\n",
    "    "
   ]
  },
  {
   "cell_type": "code",
   "execution_count": null,
   "metadata": {
    "collapsed": true
   },
   "outputs": [],
   "source": []
  }
 ],
 "metadata": {
  "anaconda-cloud": {},
  "kernelspec": {
   "display_name": "Python [default]",
   "language": "python",
   "name": "python2"
  },
  "language_info": {
   "codemirror_mode": {
    "name": "ipython",
    "version": 2
   },
   "file_extension": ".py",
   "mimetype": "text/x-python",
   "name": "python",
   "nbconvert_exporter": "python",
   "pygments_lexer": "ipython2",
   "version": "2.7.12"
  }
 },
 "nbformat": 4,
 "nbformat_minor": 0
}
