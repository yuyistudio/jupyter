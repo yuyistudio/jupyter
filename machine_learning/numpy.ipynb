{
 "cells": [
  {
   "cell_type": "code",
   "execution_count": 32,
   "metadata": {
    "collapsed": false
   },
   "outputs": [
    {
     "name": "stdout",
     "output_type": "stream",
     "text": [
      "[[ 1.5488135   1.71518937  1.60276338]\n",
      " [ 1.54488318  1.4236548   1.64589411]]\n",
      "[ 1.5488135   1.71518937  1.60276338  1.54488318  1.4236548   1.64589411]\n",
      "[ 3.26400287  3.14764656  3.06954891]\n",
      "[ 1.5488135  1.4236548]\n",
      "[[ 1.5488135   3.26400287  4.86676625]\n",
      " [ 1.54488318  2.96853798  4.6144321 ]]\n",
      "ufunc\n",
      "[[ 1.24451336  1.30965238  1.26600291]\n",
      " [ 1.2429333   1.19317006  1.28292405]]\n",
      "[[ 2.09762701  2.43037873  2.20552675]\n",
      " [ 2.08976637  1.8473096   2.29178823]]\n",
      "[[ 2.09762701  2.43037873  2.20552675]\n",
      " [ 2.08976637  1.8473096   2.29178823]]\n",
      "[[ 4.70588336  5.55772786  4.96673844]\n",
      " [ 4.68742402  4.15226845  5.18564439]]\n"
     ]
    }
   ],
   "source": [
    "import numpy as np\n",
    "np.random.seed(0)\n",
    "a1 = np.ones((2,3))\n",
    "a2 = np.random.random((2,3))\n",
    "a1 = a1 + a2\n",
    "print a1\n",
    "print a1.ravel()\n",
    "print a1.reshape((3,2)).sum(axis=1)\n",
    "print a1.min(axis=1)\n",
    "print a1.cumsum(axis=1) # cumulative sum\n",
    "\n",
    "# ufunc = universal functions, operate elementwide on a ndarray\n",
    "print 'ufunc'\n",
    "print np.sqrt(a1)\n",
    "print np.add(a1, a2)\n",
    "print a1+a2 # translated into np.add(a1,a2)\n",
    "print np.exp(a1)\n",
    "\n"
   ]
  },
  {
   "cell_type": "code",
   "execution_count": 45,
   "metadata": {
    "collapsed": false
   },
   "outputs": [
    {
     "name": "stdout",
     "output_type": "stream",
     "text": [
      "[[ 1.  1.  1.  1.  1.]\n",
      " [ 1.  1.  1.  1.  1.]\n",
      " [ 1.  1.  1.  1.  1.]\n",
      " [ 1.  1.  1.  1.  1.]\n",
      " [ 1.  1.  1.  1.  1.]]\n",
      "[[ 8.  1.  8.  1.  8.]\n",
      " [ 1.  1.  1.  1.  1.]\n",
      " [ 8.  1.  8.  1.  8.]\n",
      " [ 1.  1.  1.  1.  1.]\n",
      " [ 8.  1.  8.  1.  8.]]\n",
      "[[ 64.   1.  64.   1.  64.]\n",
      " [  1.   1.   1.   1.   1.]\n",
      " [ 64.   1.  64.   1.  64.]\n",
      " [  1.   1.   1.   1.   1.]\n",
      " [ 64.   1.  64.   1.  64.]]\n"
     ]
    }
   ],
   "source": [
    "# indexing\n",
    "a1 = np.ones((5,5))\n",
    "print a1\n",
    "a1[::2,::2] = 8 # 每行所有元素中每隔两个元素，每列也是\n",
    "print a1\n",
    "print a1 ** 2 # 计算平方"
   ]
  },
  {
   "cell_type": "code",
   "execution_count": 77,
   "metadata": {
    "collapsed": false
   },
   "outputs": [
    {
     "name": "stdout",
     "output_type": "stream",
     "text": [
      "[[0 1 2 3 4]\n",
      " [1 2 3 4 5]\n",
      " [2 3 4 5 6]\n",
      " [3 4 5 6 7]]\n",
      "[1 2 3]\n",
      "[2 3 4 5 6]\n",
      "[2 3 4 5 6]\n",
      "[2 3 4 5 6]\n",
      "[0 1 2 3 4 1 2 3 4 5 2 3 4 5 6 3 4 5 6 7]\n",
      "[0 1 2 3 4 1 2 3 4 5 2 3 4 5 6 3 4 5 6 7]\n"
     ]
    }
   ],
   "source": [
    "# Multidimensional arrays\n",
    "a1 = np.fromfunction(lambda x, y: x + y, (4,5), dtype=int)\n",
    "print a1\n",
    "print a1[0:3,1]\n",
    "print a1[2,:] \n",
    "print a1[2] # same as a1[2,:]\n",
    "print a1[2,...] # same as a1[2,:]\n",
    "\n",
    "print np.array([x for x in a1.flat])\n",
    "print a1.ravel()"
   ]
  },
  {
   "cell_type": "code",
   "execution_count": 89,
   "metadata": {
    "collapsed": false
   },
   "outputs": [
    {
     "name": "stdout",
     "output_type": "stream",
     "text": [
      "[[ 2.19525402  2.86075747  2.4110535   2.17953273]\n",
      " [ 1.6946192   2.58357645  1.75034885  3.567092  ]\n",
      " [ 3.85465104  1.53376608  3.16690015  2.11557968]]\n",
      "[[ 2.  2.  2.  2.]\n",
      " [ 1.  2.  1.  3.]\n",
      " [ 3.  1.  3.  2.]]\n",
      "[[ 3.  3.  3.  3.]\n",
      " [ 2.  3.  2.  4.]\n",
      " [ 4.  2.  4.  3.]]\n",
      "[[ 2.19525402  2.86075747  2.4110535   2.17953273  1.6946192   2.58357645]\n",
      " [ 1.75034885  3.567092    3.85465104  1.53376608  3.16690015  2.11557968]]\n",
      "[[ 2.19525402  1.75034885]\n",
      " [ 2.86075747  3.567092  ]\n",
      " [ 2.4110535   3.85465104]\n",
      " [ 2.17953273  1.53376608]\n",
      " [ 1.6946192   3.16690015]\n",
      " [ 2.58357645  2.11557968]]\n"
     ]
    }
   ],
   "source": [
    "# shape manipulation\n",
    "np.random.seed(0)\n",
    "a1 = np.random.random((3,4))\n",
    "a1 *= 4\n",
    "print a1\n",
    "print np.floor(a1)\n",
    "print np.ceil(a1)\n",
    "print a1.reshape((2,6))\n",
    "print a1.reshape((2,6)).T"
   ]
  },
  {
   "cell_type": "code",
   "execution_count": 99,
   "metadata": {
    "collapsed": false
   },
   "outputs": [
    {
     "name": "stdout",
     "output_type": "stream",
     "text": [
      "[[ 1.  1.]\n",
      " [ 1.  1.]]\n",
      "[[ 1.  1.  1.]\n",
      " [ 1.  0.  0.]\n",
      " [ 0.  0.  0.]]\n",
      "[[ 2.  2.  2.]\n",
      " [ 2.  2.  2.]]\n",
      "[[ 1.  1.  1.]\n",
      " [ 1.  0.  0.]\n",
      " [ 0.  0.  0.]\n",
      " [ 2.  2.  2.]\n",
      " [ 2.  2.  2.]]\n",
      "[[ 2.  2.  2.  2.]\n",
      " [ 2.  2.  2.  2.]\n",
      " [ 2.  2.  2.  2.]]\n",
      "[[ 1.  1.  1.  2.  2.  2.  2.]\n",
      " [ 1.  0.  0.  2.  2.  2.  2.]\n",
      " [ 0.  0.  0.  2.  2.  2.  2.]]\n"
     ]
    }
   ],
   "source": [
    "a1 = np.ones((2,2))\n",
    "print a1\n",
    "a1.resize((3,3)) # modify the underlying array, fill with zero\n",
    "print a1\n",
    "a2 = np.ones((2,3)) * 2\n",
    "print a2\n",
    "print np.vstack((a1, a2))\n",
    "a2 = np.ones((3,4)) * 2\n",
    "print a2\n",
    "print np.hstack((a1,a2))\n"
   ]
  },
  {
   "cell_type": "code",
   "execution_count": 145,
   "metadata": {
    "collapsed": false
   },
   "outputs": [
    {
     "name": "stdout",
     "output_type": "stream",
     "text": [
      "[1 2 3 4 5 6 7 8 0 0 0 3 2 1]\n",
      "[[1 4]\n",
      " [2 5]\n",
      " [3 6]]\n"
     ]
    }
   ],
   "source": [
    "# shortcuts\n",
    "print np.r_[1:9, 0,0,0, 3,2,1]\n",
    "print np.r_['-1,2,0', [1,2,3], [4,5,6]]\n"
   ]
  },
  {
   "cell_type": "code",
   "execution_count": 158,
   "metadata": {
    "collapsed": false
   },
   "outputs": [
    {
     "name": "stdout",
     "output_type": "stream",
     "text": [
      "False\n",
      "True\n",
      "[[ 0.56660145  0.26538949  0.52324805]\n",
      " [ 0.09394051  0.5759465   0.9292962 ]]\n",
      "[[ 0.56660145  0.26538949]\n",
      " [ 0.52324805  0.09394051]\n",
      " [ 0.5759465   0.9292962 ]]\n",
      "[ 0.52324805  0.9292962 ]\n",
      "[[ 0.56660145  0.26538949  0.52324805]\n",
      " [ 0.09394051  0.5759465   0.9292962 ]]\n"
     ]
    }
   ],
   "source": [
    "# view & copy\n",
    "a1 = np.random.random((2,3))\n",
    "a2 = a1.view()\n",
    "print a1 is a2\n",
    "print a2.base is a1 # a2使用a1作为底层存储，所以修改a2会相应的修改a1\n",
    "a2.shape = 3,2\n",
    "print a1\n",
    "print a2\n",
    "\n",
    "a3 = a1[:,2]\n",
    "print a3 # 此时a3是a1的一个view\n",
    "\n",
    "a4 = a1.copy() # deepcopy\n",
    "print a4\n"
   ]
  },
  {
   "cell_type": "code",
   "execution_count": null,
   "metadata": {
    "collapsed": true
   },
   "outputs": [],
   "source": []
  }
 ],
 "metadata": {
  "kernelspec": {
   "display_name": "Python 2",
   "language": "python",
   "name": "python2"
  },
  "language_info": {
   "codemirror_mode": {
    "name": "ipython",
    "version": 2
   },
   "file_extension": ".py",
   "mimetype": "text/x-python",
   "name": "python",
   "nbconvert_exporter": "python",
   "pygments_lexer": "ipython2",
   "version": "2.7.12"
  }
 },
 "nbformat": 4,
 "nbformat_minor": 0
}
