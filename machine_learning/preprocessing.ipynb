{
 "cells": [
  {
   "cell_type": "code",
   "execution_count": 5,
   "metadata": {
    "collapsed": false
   },
   "outputs": [],
   "source": [
    "from sklearn import *\n",
    "import matplotlib as mp\n",
    "import matplotlib.pyplot as plt\n",
    "import numpy as np\n",
    "\n",
    "import sklearn.preprocessing as pp"
   ]
  },
  {
   "cell_type": "code",
   "execution_count": 26,
   "metadata": {
    "collapsed": false
   },
   "outputs": [
    {
     "name": "stdout",
     "output_type": "stream",
     "text": [
      "[[ 0.  0.  1.]]\n"
     ]
    },
    {
     "name": "stderr",
     "output_type": "stream",
     "text": [
      "D:\\Program Files\\Anaconda2\\lib\\site-packages\\sklearn\\utils\\validation.py:386: DeprecationWarning: Passing 1d arrays as data is deprecated in 0.17 and willraise ValueError in 0.19. Reshape your data either using X.reshape(-1, 1) if your data has a single feature or X.reshape(1, -1) if it contains a single sample.\n",
      "  DeprecationWarning)\n"
     ]
    }
   ],
   "source": [
    "binarizer = pp.Binarizer(threshold=0.5)\n",
    "print binarizer.transform([0.4,0.5,0.6]) # 大于threshold的都变成1，其他都变成0"
   ]
  },
  {
   "cell_type": "code",
   "execution_count": 38,
   "metadata": {
    "collapsed": false
   },
   "outputs": [
    {
     "name": "stdout",
     "output_type": "stream",
     "text": [
      "[[2 3 4]\n",
      " [4 5 6]]\n"
     ]
    }
   ],
   "source": [
    "ft = pp.FunctionTransformer(lambda x: x+1)\n",
    "print ft.fit_transform([[1,2,3],[3,4,5]]) # 对传入的元素每个调用指定的函数"
   ]
  },
  {
   "cell_type": "code",
   "execution_count": 40,
   "metadata": {
    "collapsed": false
   },
   "outputs": [
    {
     "name": "stdout",
     "output_type": "stream",
     "text": [
      "[[ 1.  3.]\n",
      " [ 2.  2.]\n",
      " [ 3.  4.]]\n",
      "[[ 1.  3.]\n",
      " [ 2.  2.]\n",
      " [ 3.  4.]]\n"
     ]
    }
   ],
   "source": [
    "i = pp.Imputer(missing_values='NaN', strategy='mean') # 补全缺失的值\n",
    "print i.fit_transform([[1,np.NaN], # 使用每一列的均值进行替换\n",
    "             [np.NaN,2],\n",
    "             [3,4]])\n",
    "i = pp.Imputer(missing_values=99, strategy='mean')\n",
    "print i.fit_transform([[1,99],\n",
    "             [99,2],\n",
    "             [3,4]])\n"
   ]
  },
  {
   "cell_type": "code",
   "execution_count": 41,
   "metadata": {
    "collapsed": true
   },
   "outputs": [],
   "source": [
    "# Kernel Centerer TODO"
   ]
  },
  {
   "cell_type": "code",
   "execution_count": 46,
   "metadata": {
    "collapsed": false
   },
   "outputs": [
    {
     "name": "stdout",
     "output_type": "stream",
     "text": [
      "[[1 0 0 0]\n",
      " [0 1 0 0]\n",
      " [0 0 1 0]\n",
      " [0 0 0 1]\n",
      " [0 0 0 0]]\n"
     ]
    }
   ],
   "source": [
    "print pp.label_binarize([11, 33, 99, 222, 123], classes=[11, 33, 99, 222]) # 这是一个函数，输入时(目标分类，所有分类的列表)\n",
    "# 找不到的分类输出为全0"
   ]
  },
  {
   "cell_type": "code",
   "execution_count": 57,
   "metadata": {
    "collapsed": false
   },
   "outputs": [
    {
     "name": "stdout",
     "output_type": "stream",
     "text": [
      "[[0 0 1 1 1 1]\n",
      " [0 1 1 0 0 0]\n",
      " [1 0 0 0 1 0]\n",
      " [1 1 0 0 0 0]]\n"
     ]
    }
   ],
   "source": [
    "mlb = pp.MultiLabelBinarizer()\n",
    "print mlb.fit_transform([('good','man','is','me'),('good','boy'),('bad','man'),('bad','boy')]) # 每个分类有若干个标签\n"
   ]
  },
  {
   "cell_type": "code",
   "execution_count": 59,
   "metadata": {
    "collapsed": false
   },
   "outputs": [
    {
     "name": "stdout",
     "output_type": "stream",
     "text": [
      "[1 0 2 4 3]\n"
     ]
    }
   ],
   "source": [
    "le = pp.LabelEncoder()\n",
    "print le.fit_transform(['good','bad','nice','very_good','so_so']) # 将类别标签编码为数字"
   ]
  },
  {
   "cell_type": "code",
   "execution_count": 85,
   "metadata": {
    "collapsed": false
   },
   "outputs": [
    {
     "name": "stdout",
     "output_type": "stream",
     "text": [
      "[[0 1 0 0 0]\n",
      " [1 0 0 0 0]\n",
      " [0 0 1 0 0]\n",
      " [0 0 0 0 1]\n",
      " [0 0 0 1 0]]\n",
      "[[0 0 1 1]\n",
      " [1 1 0 0]\n",
      " [1 1 1 1]]\n"
     ]
    }
   ],
   "source": [
    "tags = ['good','bad','nice','very_good','so_so']\n",
    "tag_nums = pp.LabelEncoder().fit_transform(tags) # 将列表标签变为数值\n",
    "print pp.label_binarize(tag_nums, list(set(tag_nums))) # 将数值二进制化\n",
    "\n",
    "x = np.array([\n",
    "        [1,2,3,4],\n",
    "        [5,3,2,1],\n",
    "        [9,44,3,3]])\n",
    "print pp.binarize(x, threshold=2.5) # 将数值二分为 0 或者 1"
   ]
  },
  {
   "cell_type": "code",
   "execution_count": 68,
   "metadata": {
    "collapsed": false
   },
   "outputs": [
    {
     "name": "stdout",
     "output_type": "stream",
     "text": [
      "[[-1.22474487  1.22474487]\n",
      " [ 0.          0.        ]\n",
      " [ 1.22474487 -1.22474487]]\n",
      "[ 0.  0.] [ 1.  1.]\n"
     ]
    }
   ],
   "source": [
    "X = [[100,3],\n",
    "    [200,2],\n",
    "    [300,1]]\n",
    "sX = pp.scale(X) # 把每一列的重要性变得一样\n",
    "print sX\n",
    "print sX.mean(axis=0), sX.std(axis=0) # scale之后 mean=0 var=1"
   ]
  },
  {
   "cell_type": "code",
   "execution_count": 70,
   "metadata": {
    "collapsed": false
   },
   "outputs": [
    {
     "name": "stdout",
     "output_type": "stream",
     "text": [
      "[[ 1.   1. ]\n",
      " [ 0.5  0.5]\n",
      " [ 0.   0. ]]\n"
     ]
    }
   ],
   "source": [
    "min_max_scaler = preprocessing.MinMaxScaler() # 限制每一列的最大最小值。默认将输入列的最小最大值映射到 [0,1]\n",
    "print min_max_scaler.fit_transform([[2,300],\n",
    "                                   [1,150],\n",
    "                                   [0,0]])"
   ]
  },
  {
   "cell_type": "code",
   "execution_count": 73,
   "metadata": {
    "collapsed": false
   },
   "outputs": [
    {
     "name": "stdout",
     "output_type": "stream",
     "text": [
      "[[ 1.  -1. ]\n",
      " [ 0.5 -0.5]\n",
      " [ 0.   0. ]]\n"
     ]
    }
   ],
   "source": [
    "scaler = preprocessing.MaxAbsScaler() # 限制每一列的最大最小值。默认将输入列的最小最大值映射到 [-1,1]，0还是映射到0.\n",
    "print scaler.fit_transform([[2,-300],\n",
    "                           [1,-150],\n",
    "                           [0,0]])"
   ]
  },
  {
   "cell_type": "code",
   "execution_count": null,
   "metadata": {
    "collapsed": true
   },
   "outputs": [],
   "source": []
  }
 ],
 "metadata": {
  "kernelspec": {
   "display_name": "Python 2",
   "language": "python",
   "name": "python2"
  },
  "language_info": {
   "codemirror_mode": {
    "name": "ipython",
    "version": 2
   },
   "file_extension": ".py",
   "mimetype": "text/x-python",
   "name": "python",
   "nbconvert_exporter": "python",
   "pygments_lexer": "ipython2",
   "version": "2.7.12"
  }
 },
 "nbformat": 4,
 "nbformat_minor": 0
}
