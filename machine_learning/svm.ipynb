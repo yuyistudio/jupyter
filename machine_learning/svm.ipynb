{
 "cells": [
  {
   "cell_type": "code",
   "execution_count": 27,
   "metadata": {
    "collapsed": false
   },
   "outputs": [],
   "source": [
    "import matplotlib as mp\n",
    "import matplotlib.pyplot as plt \n",
    "from sklearn import *\n",
    "import numpy as np\n",
    "%matplotlib inline\n"
   ]
  },
  {
   "cell_type": "code",
   "execution_count": 38,
   "metadata": {
    "collapsed": false
   },
   "outputs": [
    {
     "name": "stdout",
     "output_type": "stream",
     "text": [
      "SVC(C=1.0, cache_size=200, class_weight=None, coef0=0.0,\n",
      "  decision_function_shape=None, degree=3, gamma='auto', kernel='linear',\n",
      "  max_iter=-1, probability=False, random_state=None, shrinking=True,\n",
      "  tol=0.001, verbose=False)\n",
      "loss 0.00666666666667\n"
     ]
    },
    {
     "data": {
      "image/png": "[encoded data removed]",
      "text/plain": [
       "<matplotlib.figure.Figure at 0x10c764e0>"
      ]
     },
     "metadata": {},
     "output_type": "display_data"
    }
   ],
   "source": [
    "d = datasets.load_iris()\n",
    "clf = svm.SVC(kernel='linear') # SVC: support vector classifier  clf: classfier\n",
    "clf.fit(d['data'], d['target'])\n",
    "print clf\n",
    "print 'loss', np.sum(np.abs(clf.predict(d['data']) - d['target'])) * 1.0 / len(d['target'])\n",
    "\n",
    "plt.scatter(d['data'][d['target'] == 0, 2], d['data'][d['target'] == 0, 0], marker='o', c='red')\n",
    "plt.scatter(d['data'][d['target'] == 1, 2], d['data'][d['target'] == 1, 0], marker='x', c='blue')\n",
    "plt.scatter(d['data'][d['target'] == 2, 2], d['data'][d['target'] == 2, 0], marker='*', c='green')\n",
    "plt.show()\n"
   ]
  },
  {
   "cell_type": "code",
   "execution_count": null,
   "metadata": {
    "collapsed": true
   },
   "outputs": [],
   "source": []
  }
 ],
 "metadata": {
  "anaconda-cloud": {},
  "kernelspec": {
   "display_name": "Python [default]",
   "language": "python",
   "name": "python2"
  },
  "language_info": {
   "codemirror_mode": {
    "name": "ipython",
    "version": 2
   },
   "file_extension": ".py",
   "mimetype": "text/x-python",
   "name": "python",
   "nbconvert_exporter": "python",
   "pygments_lexer": "ipython2",
   "version": "2.7.12"
  }
 },
 "nbformat": 4,
 "nbformat_minor": 0
}
