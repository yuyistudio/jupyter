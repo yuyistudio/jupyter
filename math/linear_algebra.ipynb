{
 "cells": [
  {
   "cell_type": "code",
   "execution_count": 2,
   "metadata": {
    "collapsed": true
   },
   "outputs": [],
   "source": [
    "import numpy as np\n",
    "import numpy.linalg as ll"
   ]
  },
  {
   "cell_type": "code",
   "execution_count": 30,
   "metadata": {
    "collapsed": false
   },
   "outputs": [
    {
     "name": "stdout",
     "output_type": "stream",
     "text": [
      "[[1 0]\n",
      " [1 3]]\n",
      "54.0\n",
      "54.0\n"
     ]
    }
   ],
   "source": [
    "# 验证 |kAn| = k^n |An|\n",
    "a = np.array( [[2,1,0],[1,1,3],[4,2,2]] )\n",
    "k = 3\n",
    "print(ll.det(a) * k**a.shape[0])\n",
    "print(ll.det(k * a))\n"
   ]
  },
  {
   "cell_type": "code",
   "execution_count": 27,
   "metadata": {
    "collapsed": false
   },
   "outputs": [
    {
     "name": "stdout",
     "output_type": "stream",
     "text": [
      "[[ -4.  -2.   3.]\n",
      " [ 10.   4.  -6.]\n",
      " [ -2.  -0.   1.]]\n"
     ]
    }
   ],
   "source": [
    "# 求解伴随矩阵 A* = |A| A^(-1)\n",
    "a = np.array( [[2,1,0],[1,1,3],[4,2,2]] )\n",
    "def adjoint_matrix(mat):\n",
    "    return ll.det(mat) * ll.inv(mat)\n",
    "print(adjoint_matrix(a))"
   ]
  },
  {
   "cell_type": "code",
   "execution_count": 41,
   "metadata": {
    "collapsed": false
   },
   "outputs": [
    {
     "name": "stdout",
     "output_type": "stream",
     "text": [
      "[[1 1 3]\n",
      " [2 1 0]\n",
      " [4 2 2]]\n",
      "[[2 1 0]\n",
      " [1 1 3]\n",
      " [4 2 2]]\n",
      "[[1 2 0]\n",
      " [1 1 3]\n",
      " [2 4 2]]\n"
     ]
    }
   ],
   "source": [
    "\n",
    "a = np.array( [[2,1,0],[1,1,3],[4,2,2]] )\n",
    "e12 = np.array([[0,1,0],[1,0,0],[0,0,1]]) # 调换1、2两行的初等变换\n",
    "print(np.dot(e12, a)) # 对应元素相乘\n",
    "print(a)\n",
    "print(np.dot(a, e12)) # 对应元素相乘\n"
   ]
  },
  {
   "cell_type": "code",
   "execution_count": null,
   "metadata": {
    "collapsed": true
   },
   "outputs": [],
   "source": []
  }
 ],
 "metadata": {
  "kernelspec": {
   "display_name": "Python 2",
   "language": "python",
   "name": "python2"
  },
  "language_info": {
   "codemirror_mode": {
    "name": "ipython",
    "version": 2
   },
   "file_extension": ".py",
   "mimetype": "text/x-python",
   "name": "python",
   "nbconvert_exporter": "python",
   "pygments_lexer": "ipython2",
   "version": "2.7.11"
  }
 },
 "nbformat": 4,
 "nbformat_minor": 0
}
