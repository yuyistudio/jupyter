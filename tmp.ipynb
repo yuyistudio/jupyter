{
 "cells": [
  {
   "cell_type": "code",
   "execution_count": 10,
   "metadata": {
    "collapsed": false
   },
   "outputs": [
    {
     "name": "stdout",
     "output_type": "stream",
     "text": [
      "[[ 1. -1.]\n",
      " [-1.  1.]]\n",
      "[[ 1.  -0.6]\n",
      " [-0.6  1. ]]\n",
      "[[ 1.  1.]\n",
      " [ 1.  1.]]\n",
      "[[ 1.         0.9982684]\n",
      " [ 0.9982684  1.       ]]\n",
      "[[ 1.          0.27216553]\n",
      " [ 0.27216553  1.        ]]\n"
     ]
    }
   ],
   "source": [
    "import numpy as np\n",
    "a = np.array([(1,2,3,4,5),(99,98,97,96,95),])\n",
    "print np.corrcoef(a)\n",
    "a = np.array([(1,2,3,4,5),(4,5,6,3,2),])\n",
    "print np.corrcoef(a)\n",
    "a = np.array([(1,2,3,4,5),(12,13,14,15,16),])\n",
    "print np.corrcoef(a)\n",
    "\n",
    "a = np.array([(1.1,1.9,3.1,3.9,4.9),(1,2,3,4,5),])\n",
    "print np.corrcoef(a)\n",
    "\n",
    "a = np.array([(1,2,3,4,5,11,12,13,14,15), (1,2,3,4,5,1,2,3,4,5)])\n",
    "print np.corrcoef(a)"
   ]
  },
  {
   "cell_type": "code",
   "execution_count": 24,
   "metadata": {
    "collapsed": false
   },
   "outputs": [],
   "source": [
    "\n",
    "class MultiLabelBinarizer(object):\n",
    "    def __init__(self):\n",
    "        self._label2_index = {}\n",
    "\n",
    "    def fit(self, labels):\n",
    "        for label in labels:\n",
    "            index = self._label2_index.get(label)\n",
    "            if index is None:\n",
    "                self._label2_index[label] = len(self._label2_index)\n",
    "\n",
    "    def transform(self, values):\n",
    "        result = np.zeros((1, len(self._label2_index)), dtype='int')\n",
    "        for value in values:\n",
    "            index = self._label2_index.get(value)\n",
    "            if index is None:\n",
    "                continue\n",
    "            result[0, index] = 1\n",
    "        return result\n"
   ]
  },
  {
   "cell_type": "code",
   "execution_count": 25,
   "metadata": {
    "collapsed": false
   },
   "outputs": [
    {
     "name": "stdout",
     "output_type": "stream",
     "text": [
      "[[1 1 0]]\n",
      "[[1 0 1]]\n"
     ]
    }
   ],
   "source": [
    "import sklearn.preprocessing as pp\n",
    "mb = MultiLabelBinarizer()\n",
    "mb.fit(['bj', 'sh', 'hf'])\n",
    "print mb.transform(['bj', 'sh', 'sh', '001', '001', '001'])\n",
    "\n",
    "mb = pp.MultiLabelBinarizer()\n",
    "mb.fit([['bj', 'sh', 'hf']])\n",
    "print mb.transform([['bj', 'sh', 'sh']])\n"
   ]
  },
  {
   "cell_type": "code",
   "execution_count": 71,
   "metadata": {
    "collapsed": false
   },
   "outputs": [
    {
     "name": "stdout",
     "output_type": "stream",
     "text": [
      "[[ 1.          0.63934648  0.7157138 ]\n",
      " [ 0.63934648  1.00000012  0.98072332]\n",
      " [ 0.7157138   0.98072332  1.        ]]\n",
      "[ 1.35506034  1.62006998  1.69643712]\n"
     ]
    }
   ],
   "source": [
    "import numpy as np\n",
    "\n",
    "a = np.array([\n",
    "        [11,2,23,4,5],\n",
    "        [1,2,3,4,5],\n",
    "        [3,2,4,5,6]], dtype='float32')\n",
    "\n",
    "def normalize(data):\n",
    "    norm = np.linalg.norm(data, axis=1)\n",
    "    for row in range(data.shape[0]):\n",
    "        data[row,:] = data[row,:] / norm[row]\n",
    "    return data\n",
    "\n",
    "a = normalize(a)\n",
    "sim = np.dot(a, a.T)\n",
    "print sim\n",
    "sim = np.sum(sim, axis=0)-1\n",
    "print sim\n",
    "             \n",
    "             "
   ]
  },
  {
   "cell_type": "code",
   "execution_count": 87,
   "metadata": {
    "collapsed": false
   },
   "outputs": [
    {
     "name": "stdout",
     "output_type": "stream",
     "text": [
      "count done\n",
      "done\n"
     ]
    }
   ],
   "source": [
    "from collections import Counter\n",
    "import logging\n",
    "\n",
    "c = Counter()\n",
    "max_count = 0\n",
    "line_counter = 0\n",
    "\n",
    "total_count = 0\n",
    "for l in open('beijing_ips'):\n",
    "    f = l.split(',')\n",
    "    ip = f[0]\n",
    "    count = int(f[1])\n",
    "    total_count += count\n",
    "\n",
    "    line_counter += 1\n",
    "\n",
    "print 'count done'\n",
    "\n",
    "fout = open('beijing_ips2', 'w')\n",
    "for l in open('beijing_ips'):\n",
    "    f = l.split(',')\n",
    "    ip = f[0]\n",
    "    count = int(f[1])\n",
    "    ratio = float(count) / total_count  # 使用该ip的用户，在所有北京用户中的占比。\n",
    "    fout.write('%s\\t%s\\t%s\\n' % (ip, count, ratio))\n",
    "fout.close()\n",
    "\n",
    "print 'done'\n",
    "\n",
    "    "
   ]
  },
  {
   "cell_type": "code",
   "execution_count": null,
   "metadata": {
    "collapsed": true
   },
   "outputs": [],
   "source": []
  }
 ],
 "metadata": {
  "anaconda-cloud": {},
  "kernelspec": {
   "display_name": "Python [conda root]",
   "language": "python",
   "name": "conda-root-py"
  },
  "language_info": {
   "codemirror_mode": {
    "name": "ipython",
    "version": 2
   },
   "file_extension": ".py",
   "mimetype": "text/x-python",
   "name": "python",
   "nbconvert_exporter": "python",
   "pygments_lexer": "ipython2",
   "version": "2.7.12"
  }
 },
 "nbformat": 4,
 "nbformat_minor": 1
}
