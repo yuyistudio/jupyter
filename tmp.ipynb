{
 "cells": [
  {
   "cell_type": "code",
   "execution_count": null,
   "metadata": {
    "collapsed": true
   },
   "outputs": [],
   "source": []
  },
  {
   "cell_type": "code",
   "execution_count": 2,
   "metadata": {
    "collapsed": false
   },
   "outputs": [],
   "source": [
    "import numpy as np"
   ]
  },
  {
   "cell_type": "code",
   "execution_count": 39,
   "metadata": {
    "collapsed": false
   },
   "outputs": [
    {
     "name": "stdout",
     "output_type": "stream",
     "text": [
      "(6, 3) (3,)\n",
      "[14 32 14 32 14 32]\n",
      "[0 2 4 1 3 5]\n",
      "[[1 2 3]\n",
      " [4 5 6]\n",
      " [1 2 3]\n",
      " [4 5 6]\n",
      " [1 2 3]\n",
      " [4 5 6]]\n"
     ]
    },
    {
     "data": {
      "text/plain": [
       "array([[ 0.26726124,  0.53452248,  0.80178373],\n",
       "       [ 0.45584231,  0.56980288,  0.68376346],\n",
       "       [ 0.26726124,  0.53452248,  0.80178373],\n",
       "       [ 0.45584231,  0.56980288,  0.68376346],\n",
       "       [ 0.26726124,  0.53452248,  0.80178373],\n",
       "       [ 0.45584231,  0.56980288,  0.68376346]])"
      ]
     },
     "execution_count": 39,
     "metadata": {},
     "output_type": "execute_result"
    }
   ],
   "source": [
    "np.random.seed(0)\n",
    "a = np.array([(1,2,3),(4,5,6),(1,2,3),(4,5,6),(1,2,3),(4,5,6)])\n",
    "print a.shape, a[0].shape\n",
    "res = a.dot(a[0])\n",
    "print res\n",
    "res_index = np.argsort(res)\n",
    "print res_index\n",
    "\n",
    "from sklearn.preprocessing import normalize\n",
    "print a\n",
    "normalize(a)\n",
    "\n"
   ]
  },
  {
   "cell_type": "code",
   "execution_count": null,
   "metadata": {
    "collapsed": true
   },
   "outputs": [],
   "source": []
  }
 ],
 "metadata": {
  "anaconda-cloud": {},
  "kernelspec": {
   "display_name": "Python [conda root]",
   "language": "python",
   "name": "conda-root-py"
  },
  "language_info": {
   "codemirror_mode": {
    "name": "ipython",
    "version": 2
   },
   "file_extension": ".py",
   "mimetype": "text/x-python",
   "name": "python",
   "nbconvert_exporter": "python",
   "pygments_lexer": "ipython2",
   "version": "2.7.12"
  }
 },
 "nbformat": 4,
 "nbformat_minor": 1
}
